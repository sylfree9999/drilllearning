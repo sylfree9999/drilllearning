{
 "cells": [
  {
   "cell_type": "code",
   "execution_count": 1,
   "metadata": {
    "collapsed": true
   },
   "outputs": [],
   "source": [
    "import pickle\n",
    "\n",
    "from pystan import stan\n",
    "from pystan import StanModel"
   ]
  },
  {
   "cell_type": "code",
   "execution_count": 2,
   "metadata": {},
   "outputs": [],
   "source": [
    "mcmc_code = \"\"\"\n",
    "\n",
    "/*\n",
    "*简单正态回归模型\n",
    "*/\n",
    "data {\n",
    "   int<lower=0> N; // 样本数量   \n",
    "   int K1; // 模型矩阵的列数(non_media变量个数)\n",
    "   int K2; // 模型矩阵的列数(media变量个数)\n",
    "   real y[N]; // 响应变量y\n",
    "   matrix[N, K1] X1; // 模型矩阵X\n",
    "   matrix[N, K2] X2; // 模型矩阵X\n",
    "}\n",
    "\n",
    "parameters {\n",
    "     real alpha; // 回归模型中的参数-常数项\n",
    "     vector[K1] beta1; // 回归模型中的参数\n",
    "     vector<lower=0>[K2] beta2; // 回归模型中的参数     \n",
    "     real sigma; // 标准差\n",
    "}\n",
    "\n",
    "transformed parameters {\n",
    "      vector[N] linpred;\n",
    "      linpred <- X1*beta1+X2*beta2+alpha;\n",
    "}\n",
    "\n",
    "model {  \n",
    "\n",
    "       alpha ~ cauchy(0, 10); // 斜率项的先验 （Gelman， 2008）\n",
    "\n",
    "      for(i in 1:K1)\n",
    "       beta1[i] ~ cauchy(0, 2.5); // 斜率项的先验 （Gelman， 2008）\n",
    "       \n",
    "      for(i in 1:K2)\n",
    "       beta2[i] ~ cauchy(0, 2.5); // 斜率项的先验 （Gelman， 2008）\n",
    "\n",
    "      y ~ normal(linpred, sigma);\n",
    "}\n",
    "\n",
    "generated quantities {}\n",
    "\n",
    "\"\"\"\n"
   ]
  },
  {
   "cell_type": "code",
   "execution_count": 3,
   "metadata": {},
   "outputs": [
    {
     "name": "stderr",
     "output_type": "stream",
     "text": [
      "INFO:pystan:COMPILING THE C++ CODE FOR MODEL anon_model_0d30121d5b11fbc573901f2a728b4971 NOW.\n"
     ]
    }
   ],
   "source": [
    "sm = StanModel(model_code=mcmc_code)\n",
    "with open('mcmc_pystan.pkl', 'wb') as f:\n",
    "    pickle.dump(sm, f)"
   ]
  }
 ],
 "metadata": {
  "kernelspec": {
   "display_name": "Python 3",
   "language": "python",
   "name": "python3"
  },
  "language_info": {
   "codemirror_mode": {
    "name": "ipython",
    "version": 3
   },
   "file_extension": ".py",
   "mimetype": "text/x-python",
   "name": "python",
   "nbconvert_exporter": "python",
   "pygments_lexer": "ipython3",
   "version": "3.6.3"
  }
 },
 "nbformat": 4,
 "nbformat_minor": 2
}
